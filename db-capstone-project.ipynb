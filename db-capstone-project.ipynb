{
 "cells": [
  {
   "cell_type": "code",
   "execution_count": 1,
   "id": "c4ee7b84-c52e-487c-b178-9a6a8cfe711e",
   "metadata": {},
   "outputs": [
    {
     "name": "stdout",
     "output_type": "stream",
     "text": [
      "Requirement already satisfied: mysql-connector-python in c:\\users\\hanym\\appdata\\local\\programs\\python\\python311\\lib\\site-packages (8.0.33)\n",
      "Collecting protobuf<=3.20.3,>=3.11.0 (from mysql-connector-python)\n",
      "  Downloading protobuf-3.20.3-py2.py3-none-any.whl (162 kB)\n",
      "     ---------------------------------------- 0.0/162.1 kB ? eta -:--:--\n",
      "     --------- --------------------------- 41.0/162.1 kB 653.6 kB/s eta 0:00:01\n",
      "     -------------------------- ----------- 112.6/162.1 kB 1.3 MB/s eta 0:00:01\n",
      "     -------------------------------------- 162.1/162.1 kB 1.2 MB/s eta 0:00:00\n",
      "Installing collected packages: protobuf\n",
      "  Attempting uninstall: protobuf\n",
      "    Found existing installation: protobuf 4.21.12\n",
      "    Uninstalling protobuf-4.21.12:\n",
      "      Successfully uninstalled protobuf-4.21.12\n",
      "Successfully installed protobuf-3.20.3\n"
     ]
    },
    {
     "name": "stderr",
     "output_type": "stream",
     "text": [
      "\n",
      "[notice] A new release of pip is available: 23.2 -> 23.2.1\n",
      "[notice] To update, run: python.exe -m pip install --upgrade pip\n"
     ]
    }
   ],
   "source": [
    "!pip install mysql-connector-python"
   ]
  },
  {
   "cell_type": "code",
   "execution_count": 2,
   "id": "32aae51d-4d33-46d7-a1de-8c2577b9774e",
   "metadata": {},
   "outputs": [],
   "source": [
    "import mysql.connector as connector"
   ]
  },
  {
   "cell_type": "code",
   "execution_count": 13,
   "id": "58d649f7-df8a-4de5-a3cd-bdfca3f25092",
   "metadata": {},
   "outputs": [],
   "source": [
    "connection = connector.connect(user = \"db-capstone-user\", password = \"db-capstone-user\",db = \"littlelemondb\")"
   ]
  },
  {
   "cell_type": "code",
   "execution_count": 14,
   "id": "0c5e06ed-1ff5-4eb6-bd95-00bee3099bef",
   "metadata": {},
   "outputs": [],
   "source": [
    "cursor = connection.cursor()"
   ]
  },
  {
   "cell_type": "code",
   "execution_count": 15,
   "id": "378230d5-f25b-4dbe-8936-b70f31837391",
   "metadata": {},
   "outputs": [],
   "source": [
    "show_tables_query = \"SHOW tables\" \n",
    "cursor.execute(show_tables_query)"
   ]
  },
  {
   "cell_type": "code",
   "execution_count": 16,
   "id": "ba1fcc9f-b6fb-4335-baf9-8cd629a5d5f8",
   "metadata": {},
   "outputs": [],
   "source": [
    "results = cursor.fetchall()"
   ]
  },
  {
   "cell_type": "code",
   "execution_count": 17,
   "id": "70d7c65a-55bc-4c0b-b26c-67b543d7fda3",
   "metadata": {},
   "outputs": [
    {
     "name": "stdout",
     "output_type": "stream",
     "text": [
      "[('bookings',), ('customers',), ('menu',), ('menuitems',), ('order_status',), ('orders',), ('ordersview',), ('staff',)]\n"
     ]
    }
   ],
   "source": [
    "print(results)"
   ]
  },
  {
   "cell_type": "code",
   "execution_count": 21,
   "id": "6d552686-eabe-4e7f-ac52-5d640e24d688",
   "metadata": {},
   "outputs": [],
   "source": [
    "# Complete the query\n",
    "query = \"\"\"\n",
    "SELECT concat(customers.first_name,\" \",customers.last_name) AS \"Full Name\", customers.email, customers.phone,customers.address, Orders.TotalCost\n",
    "FROM Customers\n",
    "INNER JOIN Orders ON customers.customer_id = orders.customer_id\n",
    "WHERE Orders.TotalCost > 60;\n",
    "\"\"\"\n",
    "\n",
    "# Execute the query using the cursor\n",
    "cursor.execute(query)\n",
    "\n",
    "# Fetch all the results into a variable called 'results'\n",
    "results = cursor.fetchall()\n",
    "\n",
    "# Print the results\n",
    "for row in results:\n",
    "    print(\"Full Name:\", row[0])\n",
    "    print(\"Contact Details:\", row[1])\n",
    "    print(\"Total Bill Amount:\", row[2])\n",
    "    print(\"-----------------------\")\n",
    "\n",
    "\n"
   ]
  },
  {
   "cell_type": "code",
   "execution_count": null,
   "id": "a823c79f-8230-4ed5-9b6c-5920581e1ad2",
   "metadata": {},
   "outputs": [],
   "source": []
  }
 ],
 "metadata": {
  "kernelspec": {
   "display_name": "Python 3 (ipykernel)",
   "language": "python",
   "name": "python3"
  },
  "language_info": {
   "codemirror_mode": {
    "name": "ipython",
    "version": 3
   },
   "file_extension": ".py",
   "mimetype": "text/x-python",
   "name": "python",
   "nbconvert_exporter": "python",
   "pygments_lexer": "ipython3",
   "version": "3.11.4"
  }
 },
 "nbformat": 4,
 "nbformat_minor": 5
}
